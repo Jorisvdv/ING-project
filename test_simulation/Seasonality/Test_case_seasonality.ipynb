{
  "cells": [
    {
      "cell_type": "markdown",
      "source": [
        "# Test case seasonality"
      ],
      "metadata": {}
    },
    {
      "cell_type": "code",
      "source": [
        "# Dependencies\n",
        "import numpy as np\n",
        "import pandas as pd\n",
        "import matplotlib.pyplot as plt\n",
        "%matplotlib inline\n",
        "\n",
        "import os\n",
        "print(os.getcwd())\n",
        "from Seasonality.Seasonality_adjustment import Seasonality, TransactionInterval\n",
        "csv_filename= \"Seasonality/seasonality_values.csv\"\n",
        "seasonality_df = pd.read_csv(csv_filename, sep = \";\")\n",
        "display(seasonality_df.head())\n",
        "plt.figure(num=1, figsize=(8, 6), dpi=80, facecolor='w', edgecolor='k')\n",
        "plt.plot(seasonality_df[\"time\"], seasonality_df[\"scaler_value\"])\n",
        "plt.show()\n"
      ],
      "outputs": [],
      "execution_count": null,
      "metadata": {
        "collapsed": false,
        "outputHidden": false,
        "inputHidden": false
      }
    },
    {
      "cell_type": "markdown",
      "source": [
        "## Expected volume"
      ],
      "metadata": {}
    },
    {
      "cell_type": "code",
      "source": [
        "time_scale = np.linspace(0, 600000, 10000)\n",
        "max_vol = 5000\n",
        "season = Seasonality(csv_filename)\n",
        "\n",
        "def volume(time, max_volume, seasonality):\n",
        "    volumes = [np.random.gamma(seasonality.scale(time_point) * max_volume,1)\n",
        "                for time_point in time]\n",
        "    return(np.array(volumes))\n",
        "    \n",
        "plt.figure(num=2, figsize=(8, 6), dpi=80, facecolor='w', edgecolor='k')\n",
        "plt.plot(time_scale/(3600*24), volume(time_scale, max_vol, season))\n",
        "plt.xlabel('Time')\n",
        "plt.ylabel('Number of transactions')\n",
        "plt.axis('tight')\n",
        "plt.title(\"Expected volume per second\")\n",
        "plt.show()\n"
      ],
      "outputs": [],
      "execution_count": null,
      "metadata": {
        "collapsed": false,
        "outputHidden": false,
        "inputHidden": false
      }
    },
    {
      "cell_type": "markdown",
      "source": [
        "## Interval between transactions"
      ],
      "metadata": {}
    },
    {
      "cell_type": "code",
      "source": [
        "t_interval = TransactionInterval(csv_filename, max_volume = max_vol)\n",
        "\n",
        "def interval(time, max_volume, t_interval):\n",
        "        intervals = [t_interval.interval(time_point) for time_point in time]\n",
        "        return(intervals)\n",
        "    \n",
        "\n",
        "plt.figure(num=3, figsize=(8, 6), dpi=80, facecolor='w', edgecolor='k')\n",
        "# plt.plot(time_scale/(3600*24), 1/volume(time_scale, max_vol, season))\n",
        "plt.plot(time_scale/(3600*24), interval(time_scale,max_vol, t_interval))\n",
        "plt.xlabel('Time')\n",
        "plt.axis('tight')\n",
        "plt.title(\"Time between incoming transactions\")\n",
        "plt.show()"
      ],
      "outputs": [],
      "execution_count": null,
      "metadata": {
        "collapsed": false,
        "outputHidden": false,
        "inputHidden": false
      }
    }
  ],
  "metadata": {
    "kernelspec": {
      "argv": [
        "/Users/Joris/anaconda3/bin/python",
        "-m",
        "ipykernel_launcher",
        "-f",
        "{connection_file}"
      ],
      "display_name": "Python 3",
      "language": "python",
      "name": "python3"
    }
  },
  "nbformat": 4,
  "nbformat_minor": 0
}